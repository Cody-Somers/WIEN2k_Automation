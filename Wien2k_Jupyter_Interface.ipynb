{
 "cells": [
  {
   "cell_type": "code",
   "execution_count": null,
   "id": "initial_id",
   "metadata": {
    "collapsed": true
   },
   "outputs": [],
   "source": [
    "# Needs\n",
    "# pip install fabric\n",
    "# pip install chardet\n",
    "# Place initialization.py, jupyter_interface.py, cif_file, and this jupyter_notebook in the same location"
   ]
  },
  {
   "metadata": {},
   "cell_type": "code",
   "outputs": [],
   "execution_count": null,
   "source": [
    "from jupyter_interface import *\n",
    "\n",
    "# Default options for JupyterInterface()\n",
    "# rkmax = 7.00, nn = 3, functional = \"PBE\", cutoff_energy = -6, k_points = 1000, e_range = (-9.0, 3.5)"
   ],
   "id": "e78301a3a69a7595"
  },
  {
   "metadata": {},
   "cell_type": "code",
   "outputs": [],
   "execution_count": null,
   "source": [
    "Structure_name = JupyterInterface()\n",
    "# Functions that don't need server access. Can manually upload to server and start calculations\n",
    "# Setup initial parameters that will be used across all calculations\n",
    "kwargs = {\n",
    "    'cif_file' : 'TiCv2.struct',\n",
    "    # Setup SBATCH commands. Exclude SBATCH -J and the function will automatically assign a job name on runtime.\n",
    "    'sbatch' : \"\"\"\n",
    "#SBATCH -J ADD JOB\n",
    "#SBATCH --mail-user=ADD EMAIL\n",
    "#SBATCH --mail-type=ALL\n",
    "#SBATCH --nodes=1\n",
    "#SBATCH --ntasks-per-node=1\n",
    "#SBATCH --mem=2G\n",
    "#SBATCH --time=2:00:00\n",
    "#SBATCH --get-user-env\n",
    "#SBATCH --account=ADD ACCOUNT\n",
    "\"\"\",\n",
    "    'scf_type' : \"Basic\",\n",
    "    'xspec' : \"True\",\n",
    "    'resubmit' : \"False\",\n",
    "    'scratch' : \"ADD SCRATCH LOCATION ON CLUSTER\",\n",
    "    # Setup TASKS\n",
    "    'xspec_config' : [2, \"1s\"]\n",
    "}\n",
    "Structure_name.create_new_calculation(rkmax = 5, k_points = 200, **kwargs)\n",
    "Structure_name.create_new_calculation(rkmax = 5, k_points = 300, **kwargs)\n",
    "Structure_name.create_new_calculation(rkmax = 5, k_points = 400, **kwargs)"
   ],
   "id": "fafd029587ec7cfd"
  },
  {
   "metadata": {},
   "cell_type": "code",
   "outputs": [],
   "execution_count": null,
   "source": [
    "# Functions if you want to interact with server\n",
    "working_directory = 'ADD WORKING DIRECTORY ON CLUSTER' # Directory on the server you wish to run calculation\n",
    "server_name = 'ADD SERVER ID host@server:port' # server login. It may ask for password if you don't have an ssh key.\n",
    "\n",
    "cif = 'TiCv2.struct' # Name of the cif file to be uploaded\n",
    "Structure_name.initialize_server(working_directory,server_name,ssh_key=True)\n",
    "#CoFeMn.upload_cif_structure(cif) # Only needs to be run once.\n",
    "Structure_name.submit_calculation() # Runs calculations as specified from .create_new_calculation"
   ],
   "id": "aeb9a8c7ca29e18e"
  },
  {
   "metadata": {},
   "cell_type": "code",
   "outputs": [],
   "execution_count": null,
   "source": [
    "# Option Commands\n",
    "Structure_name.find_encoding()\n",
    "configure_xspec(1,34,\"1s\")"
   ],
   "id": "34212c7599d8aead"
  }
 ],
 "metadata": {
  "kernelspec": {
   "display_name": "Python 3",
   "language": "python",
   "name": "python3"
  },
  "language_info": {
   "codemirror_mode": {
    "name": "ipython",
    "version": 2
   },
   "file_extension": ".py",
   "mimetype": "text/x-python",
   "name": "python",
   "nbconvert_exporter": "python",
   "pygments_lexer": "ipython2",
   "version": "2.7.6"
  }
 },
 "nbformat": 4,
 "nbformat_minor": 5
}
